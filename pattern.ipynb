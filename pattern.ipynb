{
  "nbformat": 4,
  "nbformat_minor": 0,
  "metadata": {
    "colab": {
      "name": "pattern.ipynb",
      "provenance": [],
      "collapsed_sections": [],
      "authorship_tag": "ABX9TyM0i5eDNdxElZZITWZSMlM5",
      "include_colab_link": true
    },
    "kernelspec": {
      "name": "python3",
      "display_name": "Python 3"
    }
  },
  "cells": [
    {
      "cell_type": "markdown",
      "metadata": {
        "id": "view-in-github",
        "colab_type": "text"
      },
      "source": [
        "<a href=\"https://colab.research.google.com/github/raghugrdr/TestPython/blob/master/pattern.ipynb\" target=\"_parent\"><img src=\"https://colab.research.google.com/assets/colab-badge.svg\" alt=\"Open In Colab\"/></a>"
      ]
    },
    {
      "cell_type": "code",
      "metadata": {
        "id": "evmhmjNO2GYb",
        "colab_type": "code",
        "outputId": "53573fb4-6b87-4081-f8e7-8718ce05a9ad",
        "colab": {
          "base_uri": "https://localhost:8080/",
          "height": 102
        }
      },
      "source": [
        "# Python 3.x code to demonstrate star pattern \n",
        "\n",
        "# Function to demonstrate printing pattern \n",
        "def pypart(n): \n",
        "\t\n",
        "\t# outer loop to handle number of rows \n",
        "\t# n in this case \n",
        "\tfor i in range(0, n): \n",
        "\t\n",
        "\t\t# inner loop to handle number of columns \n",
        "\t\t# values changing acc. to outer loop \n",
        "\t\tfor j in range(0, i+1): \n",
        "\t\t\n",
        "\t\t\t# printing stars \n",
        "\t\t\tprint(\"* \",end=\"\") \n",
        "\t\n",
        "\t\t# ending line after each row \n",
        "\t\tprint(\"\\r\") \n",
        "\n",
        "# Driver Code \n",
        "n = 5\n",
        "pypart(n) \n"
      ],
      "execution_count": 0,
      "outputs": [
        {
          "output_type": "stream",
          "text": [
            "* \r\n",
            "* * \r\n",
            "* * * \r\n",
            "* * * * \r\n",
            "* * * * * \r\n"
          ],
          "name": "stdout"
        }
      ]
    },
    {
      "cell_type": "code",
      "metadata": {
        "id": "3thnW5zz2oQb",
        "colab_type": "code",
        "outputId": "9f91c59e-3048-4c4b-934b-1de130ac77f4",
        "colab": {
          "base_uri": "https://localhost:8080/",
          "height": 102
        }
      },
      "source": [
        "# Python 3.x code to demonstrate star pattern \n",
        "\n",
        "# Function to demonstrate printing pattern \n",
        "def pypart(n): \n",
        "\tmyList = [] \n",
        "\tfor i in range(1,n+1): \n",
        "\t\tmyList.append(\"*\"*i) \n",
        "\tprint(\"\\n\".join(myList)) \n",
        "\n",
        "# Driver Code \n",
        "n = 5\n",
        "pypart(n) \n"
      ],
      "execution_count": 0,
      "outputs": [
        {
          "output_type": "stream",
          "text": [
            "*\n",
            "**\n",
            "***\n",
            "****\n",
            "*****\n"
          ],
          "name": "stdout"
        }
      ]
    }
  ]
}